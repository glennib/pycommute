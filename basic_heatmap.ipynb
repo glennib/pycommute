{
 "cells": [
  {
   "cell_type": "code",
   "execution_count": 1,
   "metadata": {},
   "outputs": [],
   "source": [
    "import matplotlib.pyplot as plt\n",
    "import json\n",
    "import os\n",
    "import sys\n",
    "import pandas as pd\n",
    "from pprint import pprint"
   ]
  },
  {
   "cell_type": "code",
   "execution_count": 2,
   "metadata": {},
   "outputs": [],
   "source": [
    "data_file = os.path.join('C:\\\\', 'Users', 'glenn', 'src', 'pycommute', 'distance_data_fine.json')\n",
    "with open(data_file, 'r') as f:\n",
    "    distance_data = json.load(f)"
   ]
  },
  {
   "cell_type": "code",
   "execution_count": 3,
   "metadata": {},
   "outputs": [
    {
     "data": {
      "text/plain": [
       "dict_keys(['distance_matrix_transit', 'distance_matrix_driving', 'origins', 'origins_batches', 'destinations_geocodes', 'resolution'])"
      ]
     },
     "execution_count": 3,
     "metadata": {},
     "output_type": "execute_result"
    }
   ],
   "source": [
    "distance_data.keys()"
   ]
  },
  {
   "cell_type": "code",
   "execution_count": null,
   "metadata": {},
   "outputs": [],
   "source": [
    "df = pd.DataFrame(columns=['origin_id', 'origin_address', 'destination_id', 'destination_address', 'distance_text', 'distance_value', 'duration_text', 'duration_value', 'mode'])\n",
    "distance_matrices = [(distance_data['distance_matrix_transit'], 'transit'), (distance_data['distance_matrix_transit'], 'driving')]\n",
    "for distance_matrix, mode in distance_matrices:\n",
    "    for origin_id, (origin_address, row) in enumerate(zip(distance_matrix['origin_addresses'], distance_matrix['rows'])):\n",
    "        for destination_id, (destination_address, element) in enumerate(zip(distance_matrix['destination_addresses'], row['elements'])):\n",
    "            status = element['status']\n",
    "            if status == 'OK':\n",
    "                distance_text = element['distance']['text']\n",
    "                distance_value = element['distance']['value']\n",
    "                duration_text = element['duration']['text']\n",
    "                duration_value = element['duration']['value']\n",
    "            else:\n",
    "                distance_text, distance_value, duration_text, duration_value = None, None, None, None\n",
    "\n",
    "            df_row = {\n",
    "                'origin_id': origin_id,\n",
    "                'origin_address': origin_address,\n",
    "                'destination_id': destination_id,\n",
    "                'destination_address': destination_address,\n",
    "                'distance_text': distance_text,\n",
    "                'distance_value': distance_value,\n",
    "                'duration_text': duration_text,\n",
    "                'duration_value': duration_value,\n",
    "                'mode': mode,\n",
    "            }\n",
    "            df = df.append(df_row, ignore_index=True)\n",
    "\n",
    "df\n",
    "                  \n",
    "        \n",
    "        "
   ]
  },
  {
   "cell_type": "code",
   "execution_count": null,
   "metadata": {},
   "outputs": [],
   "source": [
    "df_pickle_file = os.path.join('C:\\\\', 'Users', 'glenn', 'src', 'pycommute', 'distance_data_fine_df.pkl')\n",
    "df.to_pickle(df_pickle_file)"
   ]
  },
  {
   "cell_type": "code",
   "execution_count": null,
   "metadata": {},
   "outputs": [],
   "source": []
  }
 ],
 "metadata": {
  "kernelspec": {
   "display_name": "Python 3",
   "language": "python",
   "name": "python3"
  },
  "language_info": {
   "codemirror_mode": {
    "name": "ipython",
    "version": 3
   },
   "file_extension": ".py",
   "mimetype": "text/x-python",
   "name": "python",
   "nbconvert_exporter": "python",
   "pygments_lexer": "ipython3",
   "version": "3.7.6"
  }
 },
 "nbformat": 4,
 "nbformat_minor": 4
}
