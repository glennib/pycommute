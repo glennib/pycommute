{
 "nbformat": 4,
 "nbformat_minor": 2,
 "metadata": {
  "language_info": {
   "name": "python",
   "codemirror_mode": {
    "name": "ipython",
    "version": 3
   },
   "version": "3.7.6-final"
  },
  "orig_nbformat": 2,
  "file_extension": ".py",
  "mimetype": "text/x-python",
  "name": "python",
  "npconvert_exporter": "python",
  "pygments_lexer": "ipython3",
  "version": 3,
  "kernelspec": {
   "name": "python37664bitpycommuteconda226f2b7e3c5e4ca3bba6d2fe0cdd760c",
   "display_name": "Python 3.7.6 64-bit ('pycommute': conda)"
  }
 },
 "cells": [
  {
   "cell_type": "code",
   "execution_count": 2,
   "metadata": {},
   "outputs": [],
   "source": [
    "import os\n",
    "import sys\n",
    "import pandas as pd\n",
    "from pprint import pprint\n",
    "import numbers\n",
    "import json"
   ]
  },
  {
   "cell_type": "code",
   "execution_count": 3,
   "metadata": {},
   "outputs": [],
   "source": [
    "df = pd.read_pickle('distance_data_fine_df.pkl')"
   ]
  },
  {
   "cell_type": "code",
   "execution_count": 4,
   "metadata": {},
   "outputs": [],
   "source": [
    "with open('distance_data_fine.json', 'r') as f:\n",
    "    distance_data = json.load(f)\n"
   ]
  },
  {
   "cell_type": "code",
   "execution_count": 5,
   "metadata": {},
   "outputs": [
    {
     "data": {
      "text/html": "<div>\n<style scoped>\n    .dataframe tbody tr th:only-of-type {\n        vertical-align: middle;\n    }\n\n    .dataframe tbody tr th {\n        vertical-align: top;\n    }\n\n    .dataframe thead th {\n        text-align: right;\n    }\n</style>\n<table border=\"1\" class=\"dataframe\">\n  <thead>\n    <tr style=\"text-align: right;\">\n      <th></th>\n      <th>origin_id</th>\n      <th>origin_address</th>\n      <th>destination_id</th>\n      <th>destination_address</th>\n      <th>distance_text</th>\n      <th>distance_value</th>\n      <th>duration_text</th>\n      <th>duration_value</th>\n      <th>mode</th>\n      <th>status</th>\n    </tr>\n  </thead>\n  <tbody>\n    <tr>\n      <th>0</th>\n      <td>0</td>\n      <td>59.660417,10.351575</td>\n      <td>0</td>\n      <td>59.9745513,11.048086</td>\n      <td>None</td>\n      <td>None</td>\n      <td>None</td>\n      <td>None</td>\n      <td>transit</td>\n      <td>ZERO_RESULTS</td>\n    </tr>\n    <tr>\n      <th>1</th>\n      <td>0</td>\n      <td>59.660417,10.351575</td>\n      <td>1</td>\n      <td>59.6661754,10.7682151</td>\n      <td>None</td>\n      <td>None</td>\n      <td>None</td>\n      <td>None</td>\n      <td>transit</td>\n      <td>ZERO_RESULTS</td>\n    </tr>\n    <tr>\n      <th>2</th>\n      <td>1</td>\n      <td>59.660417,10.35515524</td>\n      <td>0</td>\n      <td>59.9745513,11.048086</td>\n      <td>None</td>\n      <td>None</td>\n      <td>None</td>\n      <td>None</td>\n      <td>transit</td>\n      <td>ZERO_RESULTS</td>\n    </tr>\n    <tr>\n      <th>3</th>\n      <td>1</td>\n      <td>59.660417,10.35515524</td>\n      <td>1</td>\n      <td>59.6661754,10.7682151</td>\n      <td>None</td>\n      <td>None</td>\n      <td>None</td>\n      <td>None</td>\n      <td>transit</td>\n      <td>ZERO_RESULTS</td>\n    </tr>\n    <tr>\n      <th>4</th>\n      <td>2</td>\n      <td>Unnamed Road, 3060 Svelvik, Norway</td>\n      <td>0</td>\n      <td>59.9745513,11.048086</td>\n      <td>81.4 km</td>\n      <td>81357</td>\n      <td>2 hours 29 mins</td>\n      <td>8928</td>\n      <td>transit</td>\n      <td>OK</td>\n    </tr>\n    <tr>\n      <th>...</th>\n      <td>...</td>\n      <td>...</td>\n      <td>...</td>\n      <td>...</td>\n      <td>...</td>\n      <td>...</td>\n      <td>...</td>\n      <td>...</td>\n      <td>...</td>\n      <td>...</td>\n    </tr>\n    <tr>\n      <th>451367</th>\n      <td>112840</td>\n      <td>Skogbakken 17, 1927 Rånåsfoss, Norway</td>\n      <td>1</td>\n      <td>59.6661754,10.7682151</td>\n      <td>77.2 km</td>\n      <td>77225</td>\n      <td>1 hour 6 mins</td>\n      <td>3987</td>\n      <td>driving</td>\n      <td>OK</td>\n    </tr>\n    <tr>\n      <th>451368</th>\n      <td>112841</td>\n      <td>Unnamed Road, Norway</td>\n      <td>0</td>\n      <td>59.9745513,11.048086</td>\n      <td>27.2 km</td>\n      <td>27194</td>\n      <td>31 mins</td>\n      <td>1836</td>\n      <td>driving</td>\n      <td>OK</td>\n    </tr>\n    <tr>\n      <th>451369</th>\n      <td>112841</td>\n      <td>Unnamed Road, Norway</td>\n      <td>1</td>\n      <td>59.6661754,10.7682151</td>\n      <td>77.2 km</td>\n      <td>77225</td>\n      <td>1 hour 6 mins</td>\n      <td>3987</td>\n      <td>driving</td>\n      <td>OK</td>\n    </tr>\n    <tr>\n      <th>451370</th>\n      <td>112842</td>\n      <td>Skogbakken 17, 1927 Rånåsfoss, Norway</td>\n      <td>0</td>\n      <td>59.9745513,11.048086</td>\n      <td>26.6 km</td>\n      <td>26603</td>\n      <td>30 mins</td>\n      <td>1814</td>\n      <td>driving</td>\n      <td>OK</td>\n    </tr>\n    <tr>\n      <th>451371</th>\n      <td>112842</td>\n      <td>Skogbakken 17, 1927 Rånåsfoss, Norway</td>\n      <td>1</td>\n      <td>59.6661754,10.7682151</td>\n      <td>76.6 km</td>\n      <td>76634</td>\n      <td>1 hour 6 mins</td>\n      <td>3966</td>\n      <td>driving</td>\n      <td>OK</td>\n    </tr>\n  </tbody>\n</table>\n<p>451372 rows × 10 columns</p>\n</div>",
      "text/plain": "       origin_id                         origin_address destination_id  \\\n0              0                    59.660417,10.351575              0   \n1              0                    59.660417,10.351575              1   \n2              1                  59.660417,10.35515524              0   \n3              1                  59.660417,10.35515524              1   \n4              2     Unnamed Road, 3060 Svelvik, Norway              0   \n...          ...                                    ...            ...   \n451367    112840  Skogbakken 17, 1927 Rånåsfoss, Norway              1   \n451368    112841                   Unnamed Road, Norway              0   \n451369    112841                   Unnamed Road, Norway              1   \n451370    112842  Skogbakken 17, 1927 Rånåsfoss, Norway              0   \n451371    112842  Skogbakken 17, 1927 Rånåsfoss, Norway              1   \n\n          destination_address distance_text distance_value    duration_text  \\\n0        59.9745513,11.048086          None           None             None   \n1       59.6661754,10.7682151          None           None             None   \n2        59.9745513,11.048086          None           None             None   \n3       59.6661754,10.7682151          None           None             None   \n4        59.9745513,11.048086       81.4 km          81357  2 hours 29 mins   \n...                       ...           ...            ...              ...   \n451367  59.6661754,10.7682151       77.2 km          77225    1 hour 6 mins   \n451368   59.9745513,11.048086       27.2 km          27194          31 mins   \n451369  59.6661754,10.7682151       77.2 km          77225    1 hour 6 mins   \n451370   59.9745513,11.048086       26.6 km          26603          30 mins   \n451371  59.6661754,10.7682151       76.6 km          76634    1 hour 6 mins   \n\n       duration_value     mode        status  \n0                None  transit  ZERO_RESULTS  \n1                None  transit  ZERO_RESULTS  \n2                None  transit  ZERO_RESULTS  \n3                None  transit  ZERO_RESULTS  \n4                8928  transit            OK  \n...               ...      ...           ...  \n451367           3987  driving            OK  \n451368           1836  driving            OK  \n451369           3987  driving            OK  \n451370           1814  driving            OK  \n451371           3966  driving            OK  \n\n[451372 rows x 10 columns]"
     },
     "execution_count": 5,
     "metadata": {},
     "output_type": "execute_result"
    }
   ],
   "source": [
    "df"
   ]
  },
  {
   "cell_type": "code",
   "execution_count": 20,
   "metadata": {},
   "outputs": [
    {
     "data": {
      "text/plain": "56434"
     },
     "execution_count": 20,
     "metadata": {},
     "output_type": "execute_result"
    }
   ],
   "source": [
    "len(distance_data['origins'])"
   ]
  },
  {
   "cell_type": "code",
   "execution_count": 16,
   "metadata": {},
   "outputs": [],
   "source": [
    "def produce_origin_column(row):\n",
    "    origin_location = distance_data['origins'][row.origin_id]\n",
    "    return origin_location\n",
    "def produce_destination_column(row):\n",
    "    destination_location_lat = distance_data['destinations_geocodes'][row.destination_id]['geometry']['location']['lat']\n",
    "    destination_location_lon = distance_data['destinations_geocodes'][row.destination_id]['geometry']['location']['lng']\n",
    "    return (destination_location_lat, destination_location_lon)"
   ]
  },
  {
   "cell_type": "code",
   "execution_count": 17,
   "metadata": {},
   "outputs": [
    {
     "ename": "IndexError",
     "evalue": "list index out of range",
     "output_type": "error",
     "traceback": [
      "\u001b[1;31m---------------------------------------------------------------------------\u001b[0m",
      "\u001b[1;31mIndexError\u001b[0m                                Traceback (most recent call last)",
      "\u001b[1;32m<ipython-input-17-72d4540d2bd9>\u001b[0m in \u001b[0;36m<module>\u001b[1;34m\u001b[0m\n\u001b[0;32m      1\u001b[0m \u001b[0mdf\u001b[0m\u001b[1;33m[\u001b[0m\u001b[1;34m'destination_location'\u001b[0m\u001b[1;33m]\u001b[0m \u001b[1;33m=\u001b[0m \u001b[0mdf\u001b[0m\u001b[1;33m.\u001b[0m\u001b[0mapply\u001b[0m\u001b[1;33m(\u001b[0m\u001b[0mproduce_destination_column\u001b[0m\u001b[1;33m,\u001b[0m \u001b[0maxis\u001b[0m\u001b[1;33m=\u001b[0m\u001b[1;36m1\u001b[0m\u001b[1;33m)\u001b[0m\u001b[1;33m\u001b[0m\u001b[1;33m\u001b[0m\u001b[0m\n\u001b[1;32m----> 2\u001b[1;33m \u001b[0mdf\u001b[0m\u001b[1;33m[\u001b[0m\u001b[1;34m'origin_location'\u001b[0m\u001b[1;33m]\u001b[0m \u001b[1;33m=\u001b[0m \u001b[0mdf\u001b[0m\u001b[1;33m.\u001b[0m\u001b[0mapply\u001b[0m\u001b[1;33m(\u001b[0m\u001b[0mproduce_origin_column\u001b[0m\u001b[1;33m,\u001b[0m \u001b[0maxis\u001b[0m\u001b[1;33m=\u001b[0m\u001b[1;36m1\u001b[0m\u001b[1;33m)\u001b[0m\u001b[1;33m\u001b[0m\u001b[1;33m\u001b[0m\u001b[0m\n\u001b[0m",
      "\u001b[1;32m~\\Anaconda3\\envs\\pycommute\\lib\\site-packages\\pandas\\core\\frame.py\u001b[0m in \u001b[0;36mapply\u001b[1;34m(self, func, axis, raw, result_type, args, **kwds)\u001b[0m\n\u001b[0;32m   6876\u001b[0m             \u001b[0mkwds\u001b[0m\u001b[1;33m=\u001b[0m\u001b[0mkwds\u001b[0m\u001b[1;33m,\u001b[0m\u001b[1;33m\u001b[0m\u001b[1;33m\u001b[0m\u001b[0m\n\u001b[0;32m   6877\u001b[0m         )\n\u001b[1;32m-> 6878\u001b[1;33m         \u001b[1;32mreturn\u001b[0m \u001b[0mop\u001b[0m\u001b[1;33m.\u001b[0m\u001b[0mget_result\u001b[0m\u001b[1;33m(\u001b[0m\u001b[1;33m)\u001b[0m\u001b[1;33m\u001b[0m\u001b[1;33m\u001b[0m\u001b[0m\n\u001b[0m\u001b[0;32m   6879\u001b[0m \u001b[1;33m\u001b[0m\u001b[0m\n\u001b[0;32m   6880\u001b[0m     \u001b[1;32mdef\u001b[0m \u001b[0mapplymap\u001b[0m\u001b[1;33m(\u001b[0m\u001b[0mself\u001b[0m\u001b[1;33m,\u001b[0m \u001b[0mfunc\u001b[0m\u001b[1;33m)\u001b[0m \u001b[1;33m->\u001b[0m \u001b[1;34m\"DataFrame\"\u001b[0m\u001b[1;33m:\u001b[0m\u001b[1;33m\u001b[0m\u001b[1;33m\u001b[0m\u001b[0m\n",
      "\u001b[1;32m~\\Anaconda3\\envs\\pycommute\\lib\\site-packages\\pandas\\core\\apply.py\u001b[0m in \u001b[0;36mget_result\u001b[1;34m(self)\u001b[0m\n\u001b[0;32m    184\u001b[0m             \u001b[1;32mreturn\u001b[0m \u001b[0mself\u001b[0m\u001b[1;33m.\u001b[0m\u001b[0mapply_raw\u001b[0m\u001b[1;33m(\u001b[0m\u001b[1;33m)\u001b[0m\u001b[1;33m\u001b[0m\u001b[1;33m\u001b[0m\u001b[0m\n\u001b[0;32m    185\u001b[0m \u001b[1;33m\u001b[0m\u001b[0m\n\u001b[1;32m--> 186\u001b[1;33m         \u001b[1;32mreturn\u001b[0m \u001b[0mself\u001b[0m\u001b[1;33m.\u001b[0m\u001b[0mapply_standard\u001b[0m\u001b[1;33m(\u001b[0m\u001b[1;33m)\u001b[0m\u001b[1;33m\u001b[0m\u001b[1;33m\u001b[0m\u001b[0m\n\u001b[0m\u001b[0;32m    187\u001b[0m \u001b[1;33m\u001b[0m\u001b[0m\n\u001b[0;32m    188\u001b[0m     \u001b[1;32mdef\u001b[0m \u001b[0mapply_empty_result\u001b[0m\u001b[1;33m(\u001b[0m\u001b[0mself\u001b[0m\u001b[1;33m)\u001b[0m\u001b[1;33m:\u001b[0m\u001b[1;33m\u001b[0m\u001b[1;33m\u001b[0m\u001b[0m\n",
      "\u001b[1;32m~\\Anaconda3\\envs\\pycommute\\lib\\site-packages\\pandas\\core\\apply.py\u001b[0m in \u001b[0;36mapply_standard\u001b[1;34m(self)\u001b[0m\n\u001b[0;32m    294\u001b[0m             \u001b[1;32mtry\u001b[0m\u001b[1;33m:\u001b[0m\u001b[1;33m\u001b[0m\u001b[1;33m\u001b[0m\u001b[0m\n\u001b[0;32m    295\u001b[0m                 result = libreduction.compute_reduction(\n\u001b[1;32m--> 296\u001b[1;33m                     \u001b[0mvalues\u001b[0m\u001b[1;33m,\u001b[0m \u001b[0mself\u001b[0m\u001b[1;33m.\u001b[0m\u001b[0mf\u001b[0m\u001b[1;33m,\u001b[0m \u001b[0maxis\u001b[0m\u001b[1;33m=\u001b[0m\u001b[0mself\u001b[0m\u001b[1;33m.\u001b[0m\u001b[0maxis\u001b[0m\u001b[1;33m,\u001b[0m \u001b[0mdummy\u001b[0m\u001b[1;33m=\u001b[0m\u001b[0mdummy\u001b[0m\u001b[1;33m,\u001b[0m \u001b[0mlabels\u001b[0m\u001b[1;33m=\u001b[0m\u001b[0mlabels\u001b[0m\u001b[1;33m\u001b[0m\u001b[1;33m\u001b[0m\u001b[0m\n\u001b[0m\u001b[0;32m    297\u001b[0m                 )\n\u001b[0;32m    298\u001b[0m             \u001b[1;32mexcept\u001b[0m \u001b[0mValueError\u001b[0m \u001b[1;32mas\u001b[0m \u001b[0merr\u001b[0m\u001b[1;33m:\u001b[0m\u001b[1;33m\u001b[0m\u001b[1;33m\u001b[0m\u001b[0m\n",
      "\u001b[1;32mpandas\\_libs\\reduction.pyx\u001b[0m in \u001b[0;36mpandas._libs.reduction.compute_reduction\u001b[1;34m()\u001b[0m\n",
      "\u001b[1;32mpandas\\_libs\\reduction.pyx\u001b[0m in \u001b[0;36mpandas._libs.reduction.Reducer.get_result\u001b[1;34m()\u001b[0m\n",
      "\u001b[1;32m<ipython-input-16-aa76ae1844fb>\u001b[0m in \u001b[0;36mproduce_origin_column\u001b[1;34m(row)\u001b[0m\n\u001b[0;32m      1\u001b[0m \u001b[1;32mdef\u001b[0m \u001b[0mproduce_origin_column\u001b[0m\u001b[1;33m(\u001b[0m\u001b[0mrow\u001b[0m\u001b[1;33m)\u001b[0m\u001b[1;33m:\u001b[0m\u001b[1;33m\u001b[0m\u001b[1;33m\u001b[0m\u001b[0m\n\u001b[1;32m----> 2\u001b[1;33m     \u001b[0morigin_location\u001b[0m \u001b[1;33m=\u001b[0m \u001b[0mdistance_data\u001b[0m\u001b[1;33m[\u001b[0m\u001b[1;34m'origins'\u001b[0m\u001b[1;33m]\u001b[0m\u001b[1;33m[\u001b[0m\u001b[0mrow\u001b[0m\u001b[1;33m.\u001b[0m\u001b[0morigin_id\u001b[0m\u001b[1;33m]\u001b[0m\u001b[1;33m\u001b[0m\u001b[1;33m\u001b[0m\u001b[0m\n\u001b[0m\u001b[0;32m      3\u001b[0m     \u001b[1;32mreturn\u001b[0m \u001b[0morigin_location\u001b[0m\u001b[1;33m\u001b[0m\u001b[1;33m\u001b[0m\u001b[0m\n\u001b[0;32m      4\u001b[0m \u001b[1;32mdef\u001b[0m \u001b[0mproduce_destination_column\u001b[0m\u001b[1;33m(\u001b[0m\u001b[0mrow\u001b[0m\u001b[1;33m)\u001b[0m\u001b[1;33m:\u001b[0m\u001b[1;33m\u001b[0m\u001b[1;33m\u001b[0m\u001b[0m\n\u001b[0;32m      5\u001b[0m     \u001b[0mdestination_location_lat\u001b[0m \u001b[1;33m=\u001b[0m \u001b[0mdistance_data\u001b[0m\u001b[1;33m[\u001b[0m\u001b[1;34m'destinations_geocodes'\u001b[0m\u001b[1;33m]\u001b[0m\u001b[1;33m[\u001b[0m\u001b[0mrow\u001b[0m\u001b[1;33m.\u001b[0m\u001b[0mdestination_id\u001b[0m\u001b[1;33m]\u001b[0m\u001b[1;33m[\u001b[0m\u001b[1;34m'geometry'\u001b[0m\u001b[1;33m]\u001b[0m\u001b[1;33m[\u001b[0m\u001b[1;34m'location'\u001b[0m\u001b[1;33m]\u001b[0m\u001b[1;33m[\u001b[0m\u001b[1;34m'lat'\u001b[0m\u001b[1;33m]\u001b[0m\u001b[1;33m\u001b[0m\u001b[1;33m\u001b[0m\u001b[0m\n",
      "\u001b[1;31mIndexError\u001b[0m: list index out of range"
     ]
    }
   ],
   "source": [
    "#df['destination_location'] = df.apply(produce_destination_column, axis=1)\n",
    "df['origin_location'] = df.apply(produce_origin_column, axis=1)"
   ]
  },
  {
   "cell_type": "code",
   "execution_count": 19,
   "metadata": {},
   "outputs": [
    {
     "data": {
      "text/html": "<div>\n<style scoped>\n    .dataframe tbody tr th:only-of-type {\n        vertical-align: middle;\n    }\n\n    .dataframe tbody tr th {\n        vertical-align: top;\n    }\n\n    .dataframe thead th {\n        text-align: right;\n    }\n</style>\n<table border=\"1\" class=\"dataframe\">\n  <thead>\n    <tr style=\"text-align: right;\">\n      <th></th>\n      <th>origin_id</th>\n      <th>origin_address</th>\n      <th>destination_id</th>\n      <th>destination_address</th>\n      <th>distance_text</th>\n      <th>distance_value</th>\n      <th>duration_text</th>\n      <th>duration_value</th>\n      <th>mode</th>\n      <th>status</th>\n      <th>destination_location</th>\n    </tr>\n  </thead>\n  <tbody>\n    <tr>\n      <th>0</th>\n      <td>0</td>\n      <td>59.660417,10.351575</td>\n      <td>0</td>\n      <td>59.9745513,11.048086</td>\n      <td>None</td>\n      <td>None</td>\n      <td>None</td>\n      <td>None</td>\n      <td>transit</td>\n      <td>ZERO_RESULTS</td>\n      <td>(59.97455129999999, 11.048086)</td>\n    </tr>\n    <tr>\n      <th>1</th>\n      <td>0</td>\n      <td>59.660417,10.351575</td>\n      <td>1</td>\n      <td>59.6661754,10.7682151</td>\n      <td>None</td>\n      <td>None</td>\n      <td>None</td>\n      <td>None</td>\n      <td>transit</td>\n      <td>ZERO_RESULTS</td>\n      <td>(59.6661754, 10.7682151)</td>\n    </tr>\n    <tr>\n      <th>2</th>\n      <td>1</td>\n      <td>59.660417,10.35515524</td>\n      <td>0</td>\n      <td>59.9745513,11.048086</td>\n      <td>None</td>\n      <td>None</td>\n      <td>None</td>\n      <td>None</td>\n      <td>transit</td>\n      <td>ZERO_RESULTS</td>\n      <td>(59.97455129999999, 11.048086)</td>\n    </tr>\n    <tr>\n      <th>3</th>\n      <td>1</td>\n      <td>59.660417,10.35515524</td>\n      <td>1</td>\n      <td>59.6661754,10.7682151</td>\n      <td>None</td>\n      <td>None</td>\n      <td>None</td>\n      <td>None</td>\n      <td>transit</td>\n      <td>ZERO_RESULTS</td>\n      <td>(59.6661754, 10.7682151)</td>\n    </tr>\n    <tr>\n      <th>4</th>\n      <td>2</td>\n      <td>Unnamed Road, 3060 Svelvik, Norway</td>\n      <td>0</td>\n      <td>59.9745513,11.048086</td>\n      <td>81.4 km</td>\n      <td>81357</td>\n      <td>2 hours 29 mins</td>\n      <td>8928</td>\n      <td>transit</td>\n      <td>OK</td>\n      <td>(59.97455129999999, 11.048086)</td>\n    </tr>\n    <tr>\n      <th>...</th>\n      <td>...</td>\n      <td>...</td>\n      <td>...</td>\n      <td>...</td>\n      <td>...</td>\n      <td>...</td>\n      <td>...</td>\n      <td>...</td>\n      <td>...</td>\n      <td>...</td>\n      <td>...</td>\n    </tr>\n    <tr>\n      <th>451367</th>\n      <td>112840</td>\n      <td>Skogbakken 17, 1927 Rånåsfoss, Norway</td>\n      <td>1</td>\n      <td>59.6661754,10.7682151</td>\n      <td>77.2 km</td>\n      <td>77225</td>\n      <td>1 hour 6 mins</td>\n      <td>3987</td>\n      <td>driving</td>\n      <td>OK</td>\n      <td>(59.6661754, 10.7682151)</td>\n    </tr>\n    <tr>\n      <th>451368</th>\n      <td>112841</td>\n      <td>Unnamed Road, Norway</td>\n      <td>0</td>\n      <td>59.9745513,11.048086</td>\n      <td>27.2 km</td>\n      <td>27194</td>\n      <td>31 mins</td>\n      <td>1836</td>\n      <td>driving</td>\n      <td>OK</td>\n      <td>(59.97455129999999, 11.048086)</td>\n    </tr>\n    <tr>\n      <th>451369</th>\n      <td>112841</td>\n      <td>Unnamed Road, Norway</td>\n      <td>1</td>\n      <td>59.6661754,10.7682151</td>\n      <td>77.2 km</td>\n      <td>77225</td>\n      <td>1 hour 6 mins</td>\n      <td>3987</td>\n      <td>driving</td>\n      <td>OK</td>\n      <td>(59.6661754, 10.7682151)</td>\n    </tr>\n    <tr>\n      <th>451370</th>\n      <td>112842</td>\n      <td>Skogbakken 17, 1927 Rånåsfoss, Norway</td>\n      <td>0</td>\n      <td>59.9745513,11.048086</td>\n      <td>26.6 km</td>\n      <td>26603</td>\n      <td>30 mins</td>\n      <td>1814</td>\n      <td>driving</td>\n      <td>OK</td>\n      <td>(59.97455129999999, 11.048086)</td>\n    </tr>\n    <tr>\n      <th>451371</th>\n      <td>112842</td>\n      <td>Skogbakken 17, 1927 Rånåsfoss, Norway</td>\n      <td>1</td>\n      <td>59.6661754,10.7682151</td>\n      <td>76.6 km</td>\n      <td>76634</td>\n      <td>1 hour 6 mins</td>\n      <td>3966</td>\n      <td>driving</td>\n      <td>OK</td>\n      <td>(59.6661754, 10.7682151)</td>\n    </tr>\n  </tbody>\n</table>\n<p>451372 rows × 11 columns</p>\n</div>",
      "text/plain": "       origin_id                         origin_address destination_id  \\\n0              0                    59.660417,10.351575              0   \n1              0                    59.660417,10.351575              1   \n2              1                  59.660417,10.35515524              0   \n3              1                  59.660417,10.35515524              1   \n4              2     Unnamed Road, 3060 Svelvik, Norway              0   \n...          ...                                    ...            ...   \n451367    112840  Skogbakken 17, 1927 Rånåsfoss, Norway              1   \n451368    112841                   Unnamed Road, Norway              0   \n451369    112841                   Unnamed Road, Norway              1   \n451370    112842  Skogbakken 17, 1927 Rånåsfoss, Norway              0   \n451371    112842  Skogbakken 17, 1927 Rånåsfoss, Norway              1   \n\n          destination_address distance_text distance_value    duration_text  \\\n0        59.9745513,11.048086          None           None             None   \n1       59.6661754,10.7682151          None           None             None   \n2        59.9745513,11.048086          None           None             None   \n3       59.6661754,10.7682151          None           None             None   \n4        59.9745513,11.048086       81.4 km          81357  2 hours 29 mins   \n...                       ...           ...            ...              ...   \n451367  59.6661754,10.7682151       77.2 km          77225    1 hour 6 mins   \n451368   59.9745513,11.048086       27.2 km          27194          31 mins   \n451369  59.6661754,10.7682151       77.2 km          77225    1 hour 6 mins   \n451370   59.9745513,11.048086       26.6 km          26603          30 mins   \n451371  59.6661754,10.7682151       76.6 km          76634    1 hour 6 mins   \n\n       duration_value     mode        status            destination_location  \n0                None  transit  ZERO_RESULTS  (59.97455129999999, 11.048086)  \n1                None  transit  ZERO_RESULTS        (59.6661754, 10.7682151)  \n2                None  transit  ZERO_RESULTS  (59.97455129999999, 11.048086)  \n3                None  transit  ZERO_RESULTS        (59.6661754, 10.7682151)  \n4                8928  transit            OK  (59.97455129999999, 11.048086)  \n...               ...      ...           ...                             ...  \n451367           3987  driving            OK        (59.6661754, 10.7682151)  \n451368           1836  driving            OK  (59.97455129999999, 11.048086)  \n451369           3987  driving            OK        (59.6661754, 10.7682151)  \n451370           1814  driving            OK  (59.97455129999999, 11.048086)  \n451371           3966  driving            OK        (59.6661754, 10.7682151)  \n\n[451372 rows x 11 columns]"
     },
     "execution_count": 19,
     "metadata": {},
     "output_type": "execute_result"
    }
   ],
   "source": [
    "df"
   ]
  },
  {
   "cell_type": "code",
   "execution_count": null,
   "metadata": {},
   "outputs": [],
   "source": []
  }
 ]
}