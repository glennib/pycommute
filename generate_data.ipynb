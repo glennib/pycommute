{
 "cells": [
  {
   "cell_type": "markdown",
   "metadata": {},
   "source": [
    "This notebook may possible charge you lots of money.\n",
    "Use with care."
   ]
  },
  {
   "cell_type": "code",
   "execution_count": 39,
   "metadata": {},
   "outputs": [],
   "source": [
    "import googlemaps\n",
    "from datetime import datetime, timedelta\n",
    "from pprint import pprint\n",
    "import pytz\n",
    "import os\n",
    "import json\n",
    "import numpy as np\n",
    "import itertools\n",
    "import shapely.geometry as geo\n",
    "import shapely.ops as ops"
   ]
  },
  {
   "cell_type": "markdown",
   "metadata": {},
   "source": [
    "Load configuration"
   ]
  },
  {
   "cell_type": "code",
   "execution_count": 40,
   "metadata": {},
   "outputs": [],
   "source": [
    "base_path = os.path.join('C:\\\\', 'Users', 'glenn', 'src', 'pycommute')\n",
    "data_directory = os.path.join(base_path, 'data')\n",
    "data_file = os.path.join(data_directory, 'test_data.json')\n",
    "use_dummy = False\n",
    "if use_dummy:\n",
    "    config_file = os.path.join(base_path, 'edit_this.config.json')\n",
    "    boundary_file = os.path.join(base_path, 'edit_this.map_boundary.json')\n",
    "else:\n",
    "    config_file = os.path.join(base_path, 'config.json')\n",
    "    boundary_file = os.path.join(base_path, 'map_boundary.json')\n",
    "with open(config_file, 'r') as f:\n",
    "    config = json.load(f)\n",
    "with open(boundary_file, 'r') as f:\n",
    "    boundary = json.load(f)"
   ]
  },
  {
   "cell_type": "markdown",
   "metadata": {},
   "source": [
    "Get API key from file"
   ]
  },
  {
   "cell_type": "code",
   "execution_count": 41,
   "metadata": {},
   "outputs": [],
   "source": [
    "with open(os.path.join(base_path, 'api_key.txt'), 'r') as f:\n",
    "    api_key = f.read().strip()"
   ]
  },
  {
   "cell_type": "markdown",
   "metadata": {},
   "source": [
    "Calculate arrival time"
   ]
  },
  {
   "cell_type": "code",
   "execution_count": 42,
   "metadata": {},
   "outputs": [
    {
     "output_type": "stream",
     "name": "stdout",
     "text": "Calculating for arrival at 2020-05-11 08:00:00+02:00.\n"
    }
   ],
   "source": [
    "local_tz = pytz.timezone(config['time_zone'])\n",
    "arrival_time = datetime.now(local_tz).replace(hour=8, minute=0, second=0, microsecond=0) + timedelta(days=1) # Tomorrow at 8\n",
    "while arrival_time.weekday() != 0: # Finding the next Monday.\n",
    "    arrival_time += timedelta(days=1)\n",
    "    \n",
    "print(f'Calculating for arrival at {arrival_time}.')"
   ]
  },
  {
   "cell_type": "markdown",
   "metadata": {},
   "source": [
    "Initialize API"
   ]
  },
  {
   "cell_type": "code",
   "execution_count": 43,
   "metadata": {},
   "outputs": [],
   "source": [
    "gmd = googlemaps.Client(key=api_key) # Data API"
   ]
  },
  {
   "cell_type": "markdown",
   "metadata": {},
   "source": [
    "Define function to calculate a point from a origin and distance and heading."
   ]
  },
  {
   "cell_type": "code",
   "execution_count": 44,
   "metadata": {},
   "outputs": [],
   "source": [
    "def point_from_distance(lon0d, lat0d, distance, heading):\n",
    "    if heading == 'north':\n",
    "        psi = 0\n",
    "    elif heading == 'east':\n",
    "        psi = -np.pi/2\n",
    "    elif heading == 'south':\n",
    "        psi = np.pi\n",
    "    elif heading == 'west':\n",
    "        psi = np.pi/2\n",
    "    else:\n",
    "        psi = np.radians(heading)\n",
    "    \n",
    "    G = 6371000 # great circle radius\n",
    "    d = distance / G\n",
    "    \n",
    "    lat0 = np.radians(lat0d)\n",
    "    lon0 = np.radians(lon0d)\n",
    "    \n",
    "    lat = np.arcsin(np.sin(lat0) * np.cos(d) + np.cos(lat0) * np.sin(d) * np.cos(psi))\n",
    "    if abs(np.cos(lat)) <= 0.001:\n",
    "        lon = lon0\n",
    "    else:\n",
    "        lon = ((lon0 - np.arcsin(np.sin(psi) * np.sin(d) / np.cos(lat)) + np.pi) % (2*np.pi)) - np.pi\n",
    "    \n",
    "    return np.degrees(lon), np.degrees(lat)"
   ]
  },
  {
   "cell_type": "markdown",
   "metadata": {},
   "source": [
    "Define polygons"
   ]
  },
  {
   "cell_type": "code",
   "execution_count": 45,
   "metadata": {},
   "outputs": [],
   "source": [
    "polygons = [geo.Polygon(polygon) for polygon in boundary['boundary_polygons']]\n",
    "union = ops.unary_union(polygons)\n",
    "southwest = np.min(union.envelope.exterior.coords, axis=0)\n",
    "northeast = np.max(union.envelope.exterior.coords, axis=0)"
   ]
  },
  {
   "cell_type": "markdown",
   "metadata": {},
   "source": [
    "Create grid"
   ]
  },
  {
   "cell_type": "code",
   "execution_count": 46,
   "metadata": {},
   "outputs": [
    {
     "output_type": "stream",
     "name": "stdout",
     "text": "16093\n4227\n"
    }
   ],
   "source": [
    "lon_center = (northeast[0]+southwest[0])/2\n",
    "lat_center = (northeast[1]+southwest[1])/2\n",
    "dlon = point_from_distance(lon_center, lat_center, config['resolution'], 'east')[0] - lon_center\n",
    "dlat = point_from_distance(lon_center, lat_center, config['resolution'], 'north')[1] - lat_center\n",
    "\n",
    "import grid\n",
    "origins = grid.get_grid_points(southwest, northeast, dlon, dlat)\n",
    "N_unfiltered_origins = len(origins)\n",
    "origins = grid.filter_points(origins, union)\n",
    "print(N_unfiltered_origins)\n",
    "print(len(origins))"
   ]
  },
  {
   "cell_type": "code",
   "execution_count": 47,
   "metadata": {},
   "outputs": [
    {
     "output_type": "stream",
     "name": "stdout",
     "text": "lat: 59.8125469 | lon: 10.761451749999999\nlat: 59.8125469 | lon: 10.766817303384563\n"
    }
   ],
   "source": [
    "print('lat: {} | lon: {}'.format(lat_center, lon_center))\n",
    "print('lat: {} | lon: {}'.format(lat_center, lon_center+dlon))\n",
    "import matplotlib.pyplot as plt\n",
    "import mplleaflet as leaf\n",
    "plt.figure()\n",
    "plt.scatter(*zip(*origins))\n",
    "leaf.show()"
   ]
  },
  {
   "cell_type": "code",
   "execution_count": 48,
   "metadata": {},
   "outputs": [
    {
     "output_type": "stream",
     "name": "stdout",
     "text": "Number of origins: 4227, number of destinations: 2. 16908 elements is approximately 84.54 USD.\n"
    }
   ],
   "source": [
    "destinations_geocodes = [gmd.geocode(destination)[0] for destination in config['destinations']]\n",
    "destinations = [(gc['geometry']['location']['lat'], gc['geometry']['location']['lng']) for gc in destinations_geocodes]\n",
    "print(f'Number of origins: {len(origins)}, number of destinations: {len(config[\"destinations\"])}. {len(config[\"destinations\"]) * len(origins) * 2} elements is approximately {len(config[\"destinations\"]) * len(origins) * 2 * 0.005} USD.')"
   ]
  },
  {
   "cell_type": "markdown",
   "metadata": {},
   "source": [
    "Since the distance_matrix api can only handle requests with maximum 25 origins and destinations, we split the origins into batches of 25."
   ]
  },
  {
   "cell_type": "code",
   "execution_count": 49,
   "metadata": {},
   "outputs": [],
   "source": [
    "# flip origins\n",
    "origins = [(origin[1], origin[0]) for origin in origins]\n",
    "\n",
    "max_distance_matrix_locations = 25\n",
    "i_origins = iter(origins)\n",
    "origins_batches = []\n",
    "while True:\n",
    "    next_batch = list(itertools.islice(i_origins, max_distance_matrix_locations))\n",
    "    if not next_batch:\n",
    "        break\n",
    "    origins_batches.append(next_batch)"
   ]
  },
  {
   "cell_type": "markdown",
   "metadata": {},
   "source": [
    "We also create a function that takes a list of batches, options, then calls the API and returns the results."
   ]
  },
  {
   "cell_type": "code",
   "execution_count": 50,
   "metadata": {},
   "outputs": [],
   "source": [
    "def call_distance_matrix_batched(origins_batches, **kwargs):\n",
    "    distance_matrices = []\n",
    "    for origins in origins_batches:\n",
    "        distance_matrix = gmd.distance_matrix(origins=origins, **kwargs)\n",
    "        distance_matrices.append(distance_matrix)\n",
    "    return distance_matrices"
   ]
  },
  {
   "cell_type": "markdown",
   "metadata": {},
   "source": [
    "Options that stay the same"
   ]
  },
  {
   "cell_type": "code",
   "execution_count": 51,
   "metadata": {},
   "outputs": [],
   "source": [
    "static_args = {\n",
    "    'language': config.get('language', 'english'),\n",
    "    'units': config.get('units', 'metric'),\n",
    "    'destinations': destinations,\n",
    "    'arrival_time': arrival_time,\n",
    "}"
   ]
  },
  {
   "cell_type": "markdown",
   "metadata": {},
   "source": [
    "Calculate distance with transit"
   ]
  },
  {
   "cell_type": "code",
   "execution_count": 52,
   "metadata": {},
   "outputs": [],
   "source": [
    "distance_matrices_transit = call_distance_matrix_batched(origins_batches, mode='transit', **static_args)"
   ]
  },
  {
   "cell_type": "markdown",
   "metadata": {},
   "source": [
    "Calculate distances with driving"
   ]
  },
  {
   "cell_type": "code",
   "execution_count": 53,
   "metadata": {},
   "outputs": [],
   "source": [
    "distance_matrices_driving = call_distance_matrix_batched(origins_batches, mode='driving', **static_args)"
   ]
  },
  {
   "cell_type": "markdown",
   "metadata": {},
   "source": [
    "Store data"
   ]
  },
  {
   "cell_type": "code",
   "execution_count": 54,
   "metadata": {},
   "outputs": [],
   "source": [
    "data_object = {\n",
    "    'distance_matrices_transit': distance_matrices_transit,\n",
    "    'distance_matrices_driving': distance_matrices_driving,\n",
    "    'origins': origins,\n",
    "    'origins_batches': origins_batches,\n",
    "    'destinations_geocodes': destinations_geocodes,\n",
    "    'config': config,\n",
    "    'boundary': boundary\n",
    "}\n",
    "\n",
    "with open(data_file, 'w') as f:\n",
    "    json.dump(data_object, f, indent=4)\n"
   ]
  },
  {
   "cell_type": "code",
   "execution_count": null,
   "metadata": {},
   "outputs": [],
   "source": []
  }
 ],
 "metadata": {
  "kernelspec": {
   "display_name": "Python 3.7.6 64-bit ('pycommute': conda)",
   "language": "python",
   "name": "python37664bitpycommuteconda53cf54b9320a4df793c0433f4e50e3e8"
  },
  "language_info": {
   "codemirror_mode": {
    "name": "ipython",
    "version": 3
   },
   "file_extension": ".py",
   "mimetype": "text/x-python",
   "name": "python",
   "nbconvert_exporter": "python",
   "pygments_lexer": "ipython3",
   "version": "3.7.6-final"
  }
 },
 "nbformat": 4,
 "nbformat_minor": 4
}