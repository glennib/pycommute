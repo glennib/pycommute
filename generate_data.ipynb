{
 "cells": [
  {
   "cell_type": "markdown",
   "metadata": {},
   "source": [
    "This notebook may possible charge you lots of money.\n",
    "Use with care."
   ]
  },
  {
   "cell_type": "code",
   "execution_count": 33,
   "metadata": {},
   "outputs": [],
   "source": [
    "import googlemaps\n",
    "from datetime import datetime, timedelta\n",
    "from pprint import pprint\n",
    "import pytz\n",
    "import os\n",
    "import json\n",
    "import numpy as np\n",
    "import itertools"
   ]
  },
  {
   "cell_type": "markdown",
   "metadata": {},
   "source": [
    "Load configuration"
   ]
  },
  {
   "cell_type": "code",
   "execution_count": 34,
   "metadata": {},
   "outputs": [],
   "source": [
    "base_path = os.path.join('C:\\\\', 'Users', 'glenn', 'src', 'pycommute')\n",
    "data_directory = os.path.join(base_path, 'data')\n",
    "data_file = os.path.join(data_directory, 'test_data.json')\n",
    "use_dummy = True\n",
    "if use_dummy:\n",
    "    config_file = os.path.join(base_path, 'edit_this.config.json')\n",
    "else:\n",
    "    config_file = os.path.join(base_path, 'config.json')\n",
    "with open(config_file, 'r') as f:\n",
    "    config = json.load(f)"
   ]
  },
  {
   "cell_type": "markdown",
   "metadata": {},
   "source": [
    "Get API key from file"
   ]
  },
  {
   "cell_type": "code",
   "execution_count": 35,
   "metadata": {},
   "outputs": [],
   "source": [
    "with open(os.path.join(base_path, 'api_key.txt'), 'r') as f:\n",
    "    api_key = f.read().strip()"
   ]
  },
  {
   "cell_type": "markdown",
   "metadata": {},
   "source": [
    "Calculate arrival time"
   ]
  },
  {
   "cell_type": "code",
   "execution_count": 36,
   "metadata": {},
   "outputs": [
    {
     "output_type": "stream",
     "name": "stdout",
     "text": "Calculating for arrival at 2020-04-27 08:00:00+02:00.\n"
    }
   ],
   "source": [
    "local_tz = pytz.timezone(config['time_zone'])\n",
    "arrival_time = datetime.now(local_tz).replace(hour=8, minute=0, second=0, microsecond=0) + timedelta(days=1) # Tomorrow at 8\n",
    "while arrival_time.weekday() != 0: # Finding the next Monday.\n",
    "    arrival_time += timedelta(days=1)\n",
    "    \n",
    "print(f'Calculating for arrival at {arrival_time}.')"
   ]
  },
  {
   "cell_type": "markdown",
   "metadata": {},
   "source": [
    "Initialize API"
   ]
  },
  {
   "cell_type": "code",
   "execution_count": 37,
   "metadata": {},
   "outputs": [],
   "source": [
    "gmd = googlemaps.Client(key=api_key) # Data API"
   ]
  },
  {
   "cell_type": "markdown",
   "metadata": {},
   "source": [
    "Define function to calculate a point from a origin and distance and heading."
   ]
  },
  {
   "cell_type": "code",
   "execution_count": 38,
   "metadata": {},
   "outputs": [],
   "source": [
    "def point_from_distance(lat0d, lon0d, distance, heading):\n",
    "    if heading == 'north':\n",
    "        psi = 0\n",
    "    elif heading == 'east':\n",
    "        psi = -np.pi/2\n",
    "    elif heading == 'south':\n",
    "        psi = np.pi\n",
    "    elif heading == 'west':\n",
    "        psi = np.pi/2\n",
    "    else:\n",
    "        psi = np.radians(heading)\n",
    "    \n",
    "    G = 6371000 # great circle radius\n",
    "    d = distance / G\n",
    "    \n",
    "    lat0 = np.radians(lat0d)\n",
    "    lon0 = np.radians(lon0d)\n",
    "    \n",
    "    lat = np.arcsin(np.sin(lat0) * np.cos(d) + np.cos(lat0) * np.sin(d) * np.cos(psi))\n",
    "    if abs(np.cos(lat)) <= 0.001:\n",
    "        lon = lon0\n",
    "    else:\n",
    "        lon = ((lon0 - np.arcsin(np.sin(psi) * np.sin(d) / np.cos(lat)) + np.pi) % (2*np.pi)) - np.pi\n",
    "    \n",
    "    return np.degrees(lat), np.degrees(lon)"
   ]
  },
  {
   "cell_type": "markdown",
   "metadata": {},
   "source": [
    "Create grid"
   ]
  },
  {
   "cell_type": "code",
   "execution_count": 39,
   "metadata": {},
   "outputs": [
    {
     "output_type": "stream",
     "name": "stdout",
     "text": "Number of origins: 1426, number of destinations: 2. 5704 elements is approximately 28.52 USD.\n"
    }
   ],
   "source": [
    "lat_center = (config['northeast'][0]+config['southwest'][0])/2\n",
    "lon_center = (config['northeast'][1]+config['southwest'][1])/2\n",
    "dlat = point_from_distance(lat_center, lon_center, config['resolution'], 'north')[0] - lat_center\n",
    "dlon = point_from_distance(lat_center, lon_center, config['resolution'], 'east')[1] - lon_center\n",
    "latitudes = np.arange(config['southwest'][0], config['northeast'][0], dlat)\n",
    "longitudes = np.arange(config['southwest'][1], config['northeast'][1], dlon)\n",
    "origins = list(itertools.product(latitudes, longitudes))\n",
    "destinations_geocodes = [gmd.geocode(destination)[0] for destination in config['destinations']]\n",
    "destinations = [(gc['geometry']['location']['lat'], gc['geometry']['location']['lng']) for gc in destinations_geocodes]\n",
    "print(f'Number of origins: {len(origins)}, number of destinations: {len(config[\"destinations\"])}. {len(config[\"destinations\"]) * len(origins) * 2} elements is approximately {len(config[\"destinations\"]) * len(origins) * 2 * 0.005} USD.')"
   ]
  },
  {
   "cell_type": "markdown",
   "metadata": {},
   "source": [
    "Since the distance_matrix api can only handle requests with maximum 25 origins and destinations, we split the origins into batches of 25."
   ]
  },
  {
   "cell_type": "code",
   "execution_count": 40,
   "metadata": {},
   "outputs": [],
   "source": [
    "max_distance_matrix_locations = 25\n",
    "i_origins = iter(origins)\n",
    "origins_batches = []\n",
    "while True:\n",
    "    next_batch = list(itertools.islice(i_origins, max_distance_matrix_locations))\n",
    "    if not next_batch:\n",
    "        break\n",
    "    origins_batches.append(next_batch)"
   ]
  },
  {
   "cell_type": "markdown",
   "metadata": {},
   "source": [
    "We also create a function that takes a list of batches, options, then calls the API and returns the results."
   ]
  },
  {
   "cell_type": "code",
   "execution_count": 41,
   "metadata": {},
   "outputs": [],
   "source": [
    "def call_distance_matrix_batched(origins_batches, **kwargs):\n",
    "    distance_matrices = []\n",
    "    for origins in origins_batches:\n",
    "        distance_matrix = gmd.distance_matrix(origins=origins, **kwargs)\n",
    "        distance_matrices.append(distance_matrix)\n",
    "    return distance_matrices"
   ]
  },
  {
   "cell_type": "markdown",
   "metadata": {},
   "source": [
    "Options that stay the same"
   ]
  },
  {
   "cell_type": "code",
   "execution_count": 42,
   "metadata": {},
   "outputs": [],
   "source": [
    "static_args = {\n",
    "    'language': config.get('language', 'english'),\n",
    "    'units': config.get('units', 'metric'),\n",
    "    'destinations': destinations,\n",
    "    'arrival_time': arrival_time,\n",
    "}"
   ]
  },
  {
   "cell_type": "markdown",
   "metadata": {},
   "source": [
    "Calculate distance with transit"
   ]
  },
  {
   "cell_type": "code",
   "execution_count": 43,
   "metadata": {},
   "outputs": [],
   "source": [
    "distance_matrices_transit = call_distance_matrix_batched(origins_batches, mode='transit', **static_args)"
   ]
  },
  {
   "cell_type": "markdown",
   "metadata": {},
   "source": [
    "Calculate distances with driving"
   ]
  },
  {
   "cell_type": "code",
   "execution_count": 44,
   "metadata": {},
   "outputs": [],
   "source": [
    "distance_matrices_driving = call_distance_matrix_batched(origins_batches, mode='driving', **static_args)"
   ]
  },
  {
   "cell_type": "markdown",
   "metadata": {},
   "source": [
    "View data"
   ]
  },
  {
   "cell_type": "markdown",
   "metadata": {},
   "source": [
    "Store data"
   ]
  },
  {
   "cell_type": "code",
   "execution_count": 46,
   "metadata": {},
   "outputs": [],
   "source": [
    "data_object = {\n",
    "    'distance_matrices_transit': distance_matrices_transit,\n",
    "    'distance_matrices_driving': distance_matrices_driving,\n",
    "    'origins': origins,\n",
    "    'origins_batches': origins_batches,\n",
    "    'destinations_geocodes': destinations_geocodes,\n",
    "    'config': config,\n",
    "}\n",
    "\n",
    "with open(data_file, 'w') as f:\n",
    "    json.dump(data_object, f, indent=4)\n"
   ]
  },
  {
   "cell_type": "code",
   "execution_count": null,
   "metadata": {},
   "outputs": [],
   "source": []
  }
 ],
 "metadata": {
  "kernelspec": {
   "display_name": "Python 3",
   "language": "python",
   "name": "python3"
  },
  "language_info": {
   "codemirror_mode": {
    "name": "ipython",
    "version": 3
   },
   "file_extension": ".py",
   "mimetype": "text/x-python",
   "name": "python",
   "nbconvert_exporter": "python",
   "pygments_lexer": "ipython3",
   "version": "3.7.6-final"
  }
 },
 "nbformat": 4,
 "nbformat_minor": 4
}