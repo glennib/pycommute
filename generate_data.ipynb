{
 "cells": [
  {
   "cell_type": "markdown",
   "metadata": {},
   "source": [
    "This notebook may possible charge you lots of money.\n",
    "Use with care."
   ]
  },
  {
   "cell_type": "code",
   "execution_count": 19,
   "metadata": {},
   "outputs": [],
   "source": [
    "import googlemaps\n",
    "from datetime import datetime, timedelta\n",
    "from pprint import pprint\n",
    "import pytz\n",
    "import os\n",
    "import json\n",
    "import numpy as np\n",
    "import itertools"
   ]
  },
  {
   "cell_type": "markdown",
   "metadata": {},
   "source": [
    "Load configuration"
   ]
  },
  {
   "cell_type": "code",
   "execution_count": 20,
   "metadata": {},
   "outputs": [],
   "source": [
    "base_path = os.path.join('C:\\\\', 'Users', 'glenn', 'src', 'pycommute')\n",
    "data_directory = os.path.join(base_path, 'data')\n",
    "data_file = os.path.join(data_directory, 'test_data.json')\n",
    "use_dummy = True\n",
    "if use_dummy:\n",
    "    config_file = os.path.join(base_path, 'edit_this.config.json')\n",
    "else:\n",
    "    config_file = os.path.join(base_path, 'config.json')\n",
    "with open(config_file, 'r') as f:\n",
    "    config = json.load(f)"
   ]
  },
  {
   "cell_type": "markdown",
   "metadata": {},
   "source": [
    "Get API key from file"
   ]
  },
  {
   "cell_type": "code",
   "execution_count": 21,
   "metadata": {},
   "outputs": [],
   "source": [
    "with open(os.path.join(base_path, 'api_key.txt'), 'r') as f:\n",
    "    api_key = f.read().strip()"
   ]
  },
  {
   "cell_type": "markdown",
   "metadata": {},
   "source": [
    "Calculate arrival time"
   ]
  },
  {
   "cell_type": "code",
   "execution_count": 22,
   "metadata": {},
   "outputs": [
    {
     "output_type": "stream",
     "name": "stdout",
     "text": "Calculating for arrival at 2020-04-27 08:00:00+02:00.\n"
    }
   ],
   "source": [
    "local_tz = pytz.timezone(config['time_zone'])\n",
    "arrival_time = datetime.now(local_tz).replace(hour=8, minute=0, second=0, microsecond=0) + timedelta(days=1) # Tomorrow at 8\n",
    "while arrival_time.weekday() != 0: # Finding the next Monday.\n",
    "    arrival_time += timedelta(days=1)\n",
    "    \n",
    "print(f'Calculating for arrival at {arrival_time}.')"
   ]
  },
  {
   "cell_type": "markdown",
   "metadata": {},
   "source": [
    "Initialize API"
   ]
  },
  {
   "cell_type": "code",
   "execution_count": 23,
   "metadata": {},
   "outputs": [],
   "source": [
    "gmd = googlemaps.Client(key=api_key) # Data API"
   ]
  },
  {
   "cell_type": "markdown",
   "metadata": {},
   "source": [
    "Define function to calculate a point from a origin and distance and heading."
   ]
  },
  {
   "cell_type": "code",
   "execution_count": 24,
   "metadata": {},
   "outputs": [],
   "source": [
    "def point_from_distance(lat0d, lon0d, distance, heading):\n",
    "    if heading == 'north':\n",
    "        psi = 0\n",
    "    elif heading == 'east':\n",
    "        psi = -np.pi/2\n",
    "    elif heading == 'south':\n",
    "        psi = np.pi\n",
    "    elif heading == 'west':\n",
    "        psi = np.pi/2\n",
    "    else:\n",
    "        psi = np.radians(heading)\n",
    "    \n",
    "    G = 6371000 # great circle radius\n",
    "    d = distance / G\n",
    "    \n",
    "    lat0 = np.radians(lat0d)\n",
    "    lon0 = np.radians(lon0d)\n",
    "    \n",
    "    lat = np.arcsin(np.sin(lat0) * np.cos(d) + np.cos(lat0) * np.sin(d) * np.cos(psi))\n",
    "    if abs(np.cos(lat)) <= 0.001:\n",
    "        lon = lon0\n",
    "    else:\n",
    "        lon = ((lon0 - np.arcsin(np.sin(psi) * np.sin(d) / np.cos(lat)) + np.pi) % (2*np.pi)) - np.pi\n",
    "    \n",
    "    return np.degrees(lat), np.degrees(lon)"
   ]
  },
  {
   "cell_type": "markdown",
   "metadata": {},
   "source": [
    "Create grid"
   ]
  },
  {
   "cell_type": "code",
   "execution_count": 25,
   "metadata": {},
   "outputs": [
    {
     "output_type": "stream",
     "name": "stdout",
     "text": "Number of origins: 65, number of destinations: 2. 260 elements is approximately 1.3 USD.\n"
    }
   ],
   "source": [
    "lat_center = (config['northeast'][0]+config['southwest'][0])/2\n",
    "lon_center = (config['northeast'][1]+config['southwest'][1])/2\n",
    "dlat = point_from_distance(lat_center, lon_center, config['resolution'], 'north')[0] - lat_center\n",
    "dlon = point_from_distance(lat_center, lon_center, config['resolution'], 'east')[1] - lon_center\n",
    "latitudes = np.arange(config['southwest'][0], config['northeast'][0], dlat)\n",
    "longitudes = np.arange(config['southwest'][1], config['northeast'][1], dlon)\n",
    "origins = list(itertools.product(latitudes, longitudes))\n",
    "destinations_geocodes = [gmd.geocode(destination)[0] for destination in config['destinations']]\n",
    "destinations = [(gc['geometry']['location']['lat'], gc['geometry']['location']['lng']) for gc in destinations_geocodes]\n",
    "print(f'Number of origins: {len(origins)}, number of destinations: {len(config[\"destinations\"])}. {len(config[\"destinations\"]) * len(origins) * 2} elements is approximately {len(config[\"destinations\"]) * len(origins) * 2 * 0.005} USD.')"
   ]
  },
  {
   "cell_type": "markdown",
   "metadata": {},
   "source": [
    "Since the distance_matrix api can only handle requests with maximum 25 origins and destinations, we split the origins into batches of 25."
   ]
  },
  {
   "cell_type": "code",
   "execution_count": 26,
   "metadata": {},
   "outputs": [],
   "source": [
    "max_distance_matrix_locations = 25\n",
    "i_origins = iter(origins)\n",
    "origins_batches = []\n",
    "while True:\n",
    "    next_batch = list(itertools.islice(i_origins, max_distance_matrix_locations))\n",
    "    if not next_batch:\n",
    "        break\n",
    "    origins_batches.append(next_batch)"
   ]
  },
  {
   "cell_type": "markdown",
   "metadata": {},
   "source": [
    "We also create a function that takes a list of batches, options, then calls the API and returns the results."
   ]
  },
  {
   "cell_type": "code",
   "execution_count": 27,
   "metadata": {},
   "outputs": [],
   "source": [
    "def call_distance_matrix_batched(origins_batches, **kwargs):\n",
    "    distance_matrices = []\n",
    "    for origins in origins_batches:\n",
    "        distance_matrix = gmd.distance_matrix(origins=origins, **kwargs)\n",
    "        distance_matrices.append(distance_matrix)\n",
    "    return distance_matrices"
   ]
  },
  {
   "cell_type": "markdown",
   "metadata": {},
   "source": [
    "Options that stay the same"
   ]
  },
  {
   "cell_type": "code",
   "execution_count": 28,
   "metadata": {},
   "outputs": [],
   "source": [
    "static_args = {\n",
    "    'language': config.get('language', 'english'),\n",
    "    'units': config.get('units', 'metric'),\n",
    "    'destinations': destinations,\n",
    "    'arrival_time': arrival_time,\n",
    "}"
   ]
  },
  {
   "cell_type": "markdown",
   "metadata": {},
   "source": [
    "Calculate distance with transit"
   ]
  },
  {
   "cell_type": "code",
   "execution_count": 29,
   "metadata": {},
   "outputs": [],
   "source": [
    "distance_matrices_transit = call_distance_matrix_batched(origins_batches, mode='transit', **static_args)"
   ]
  },
  {
   "cell_type": "markdown",
   "metadata": {},
   "source": [
    "Calculate distances with driving"
   ]
  },
  {
   "cell_type": "code",
   "execution_count": 30,
   "metadata": {},
   "outputs": [],
   "source": [
    "distance_matrices_driving = call_distance_matrix_batched(origins_batches, mode='driving', **static_args)"
   ]
  },
  {
   "cell_type": "markdown",
   "metadata": {},
   "source": [
    "View data"
   ]
  },
  {
   "cell_type": "code",
   "execution_count": 31,
   "metadata": {
    "tags": [
     "outputPrepend"
    ]
   },
   "outputs": [
    {
     "output_type": "stream",
     "name": "stdout",
     "text": "           {'distance': {'text': '3.2 km', 'value': 3164},\n                          'duration': {'text': '37 mins', 'value': 2214},\n                          'status': 'OK'}]},\n           {'elements': [{'distance': {'text': '2.3 km', 'value': 2323},\n                          'duration': {'text': '29 mins', 'value': 1724},\n                          'status': 'OK'},\n                         {'distance': {'text': '2.5 km', 'value': 2457},\n                          'duration': {'text': '29 mins', 'value': 1744},\n                          'status': 'OK'}]},\n           {'elements': [{'distance': {'text': '2.8 km', 'value': 2796},\n                          'duration': {'text': '35 mins', 'value': 2095},\n                          'status': 'OK'},\n                         {'distance': {'text': '1.9 km', 'value': 1930},\n                          'duration': {'text': '23 mins', 'value': 1379},\n                          'status': 'OK'}]},\n           {'elements': [{'distance': {'text': '3.8 km', 'value': 3762},\n                          'duration': {'text': '47 mins', 'value': 2835},\n                          'status': 'OK'},\n                         {'distance': {'text': '1.3 km', 'value': 1275},\n                          'duration': {'text': '15 mins', 'value': 919},\n                          'status': 'OK'}]},\n           {'elements': [{'distance': {'text': '4.1 km', 'value': 4141},\n                          'duration': {'text': '52 mins', 'value': 3122},\n                          'status': 'OK'},\n                         {'distance': {'text': '1.2 km', 'value': 1177},\n                          'duration': {'text': '14 mins', 'value': 833},\n                          'status': 'OK'}]}],\n  'status': 'OK'},\n {'destination_addresses': ['Klæbuveien 125, 7031 Trondheim, Norway',\n                            'Landbruksvegen 2, 7047 Trondheim, Norway'],\n  'origin_addresses': ['General Wibes veg 13, 7047 Trondheim, Norway',\n                       'Steinberget 22B, 7020 Trondheim, Norway',\n                       'Arilds gate 10D, 7018 Trondheim, Norway',\n                       'Klostergata 88, 7030 Trondheim, Norway',\n                       'Bispegata 11, 7012 Trondheim, Norway',\n                       'Bispegata 1, 7013 Trondheim, Norway',\n                       'Kristianstensbakken 18B, 7014 Trondheim, Norway',\n                       'Holbergs gate 10, 7015 Trondheim, Norway',\n                       'Tyholtveien 66, 7052 Trondheim, Norway',\n                       'Tyholtveien 93, 7046 Trondheim, Norway',\n                       'Fjøsmestervegen 14B, 7046 Trondheim, Norway',\n                       'Bromstadvegen 47A, 7045 Trondheim, Norway',\n                       'Tungavegen 22, 7047 Trondheim, Norway',\n                       'Landbruksvegen 8, 7047 Trondheim, Norway',\n                       'Mellomila 76, 7018 Trondheim, Norway',\n                       'Nedre Ila 30, 7018 Trondheim, Norway',\n                       'Svingbrua, St. Olavs Pir, 7010 Trondheim, Norway',\n                       'Dronningens gate 56, 7012 Trondheim, Norway',\n                       'Dronningens gate 5, 7011 Trondheim, Norway',\n                       'Bakkegata 3, 7014 Trondheim, Norway',\n                       'Rosenborg gate 34A, 7014 Trondheim, Norway',\n                       'Markvegen 24, 7043 Trondheim, Norway',\n                       'Lauritz Jenssens gate 43, 7045 Trondheim, Norway',\n                       'Fernanda Nissens veg 12, 7045 Trondheim, Norway',\n                       'Gartnerivegen 12, 7045 Trondheim, Norway'],\n  'rows': [{'elements': [{'distance': {'text': '4.7 km', 'value': 4667},\n                          'duration': {'text': '58 mins', 'value': 3462},\n                          'status': 'OK'},\n                         {'distance': {'text': '1.2 km', 'value': 1151},\n                          'duration': {'text': '13 mins', 'value': 804},\n                          'status': 'OK'}]},\n           {'elements': [{'distance': {'text': '3.8 km', 'value': 3783},\n                          'duration': {'text': '48 mins', 'value': 2888},\n                          'status': 'OK'},\n                         {'distance': {'text': '7.3 km', 'value': 7341},\n                          'duration': {'text': '47 mins', 'value': 2794},\n                          'status': 'OK'}]},\n           {'elements': [{'distance': {'text': '3.1 km', 'value': 3083},\n                          'duration': {'text': '40 mins', 'value': 2382},\n                          'status': 'OK'},\n                         {'distance': {'text': '6.8 km', 'value': 6776},\n                          'duration': {'text': '40 mins', 'value': 2387},\n                          'status': 'OK'}]},\n           {'elements': [{'distance': {'text': '2.4 km', 'value': 2400},\n                          'duration': {'text': '31 mins', 'value': 1850},\n                          'status': 'OK'},\n                         {'distance': {'text': '6.7 km', 'value': 6721},\n                          'duration': {'text': '39 mins', 'value': 2362},\n                          'status': 'OK'}]},\n           {'elements': [{'distance': {'text': '2.1 km', 'value': 2127},\n                          'duration': {'text': '27 mins', 'value': 1631},\n                          'status': 'OK'},\n                         {'distance': {'text': '7.1 km', 'value': 7056},\n                          'duration': {'text': '43 mins', 'value': 2583},\n                          'status': 'OK'}]},\n           {'elements': [{'distance': {'text': '2.1 km', 'value': 2132},\n                          'duration': {'text': '27 mins', 'value': 1638},\n                          'status': 'OK'},\n                         {'distance': {'text': '5.9 km', 'value': 5941},\n                          'duration': {'text': '39 mins', 'value': 2330},\n                          'status': 'OK'}]},\n           {'elements': [{'distance': {'text': '2.0 km', 'value': 2037},\n                          'duration': {'text': '26 mins', 'value': 1562},\n                          'status': 'OK'},\n                         {'distance': {'text': '5.4 km', 'value': 5376},\n                          'duration': {'text': '41 mins', 'value': 2447},\n                          'status': 'OK'}]},\n           {'elements': [{'distance': {'text': '2.1 km', 'value': 2083},\n                          'duration': {'text': '26 mins', 'value': 1530},\n                          'status': 'OK'},\n                         {'distance': {'text': '3.4 km', 'value': 3411},\n                          'duration': {'text': '43 mins', 'value': 2592},\n                          'status': 'OK'}]},\n           {'elements': [{'distance': {'text': '2.2 km', 'value': 2237},\n                          'duration': {'text': '26 mins', 'value': 1536},\n                          'status': 'OK'},\n                         {'distance': {'text': '2.8 km', 'value': 2841},\n                          'duration': {'text': '34 mins', 'value': 2045},\n                          'status': 'OK'}]},\n           {'elements': [{'distance': {'text': '2.8 km', 'value': 2768},\n                          'duration': {'text': '33 mins', 'value': 1980},\n                          'status': 'OK'},\n                         {'distance': {'text': '2.3 km', 'value': 2317},\n                          'duration': {'text': '28 mins', 'value': 1675},\n                          'status': 'OK'}]},\n           {'elements': [{'distance': {'text': '3.2 km', 'value': 3156},\n                          'duration': {'text': '40 mins', 'value': 2401},\n                          'status': 'OK'},\n                         {'distance': {'text': '1.8 km', 'value': 1820},\n                          'duration': {'text': '22 mins', 'value': 1328},\n                          'status': 'OK'}]},\n           {'elements': [{'distance': {'text': '3.7 km', 'value': 3656},\n                          'duration': {'text': '47 mins', 'value': 2800},\n                          'status': 'OK'},\n                         {'distance': {'text': '1.1 km', 'value': 1084},\n                          'duration': {'text': '14 mins', 'value': 812},\n                          'status': 'OK'}]},\n           {'elements': [{'distance': {'text': '4.2 km', 'value': 4223},\n                          'duration': {'text': '53 mins', 'value': 3209},\n                          'status': 'OK'},\n                         {'distance': {'text': '0.5 km', 'value': 501},\n                          'duration': {'text': '6 mins', 'value': 363},\n                          'status': 'OK'}]},\n           {'elements': [{'distance': {'text': '4.8 km', 'value': 4769},\n                          'duration': {'text': '1 hour 0 mins', 'value': 3596},\n                          'status': 'OK'},\n                         {'distance': {'text': '1.0 km', 'value': 1022},\n                          'duration': {'text': '13 mins', 'value': 767},\n                          'status': 'OK'}]},\n           {'elements': [{'distance': {'text': '3.6 km', 'value': 3638},\n                          'duration': {'text': '47 mins', 'value': 2794},\n                          'status': 'OK'},\n                         {'distance': {'text': '7.2 km', 'value': 7166},\n                          'duration': {'text': '45 mins', 'value': 2670},\n                          'status': 'OK'}]},\n           {'elements': [{'distance': {'text': '3.2 km', 'value': 3172},\n                          'duration': {'text': '41 mins', 'value': 2454},\n                          'status': 'OK'},\n                         {'distance': {'text': '6.7 km', 'value': 6708},\n                          'duration': {'text': '39 mins', 'value': 2335},\n                          'status': 'OK'}]},\n           {'elements': [{'distance': {'text': '3.1 km', 'value': 3120},\n                          'duration': {'text': '40 mins', 'value': 2413},\n                          'status': 'OK'},\n                         {'distance': {'text': '6.3 km', 'value': 6264},\n                          'duration': {'text': '34 mins', 'value': 2021},\n                          'status': 'OK'}]},\n           {'elements': [{'distance': {'text': '2.6 km', 'value': 2571},\n                          'duration': {'text': '33 mins', 'value': 1981},\n                          'status': 'OK'},\n                         {'distance': {'text': '6.7 km', 'value': 6743},\n                          'duration': {'text': '39 mins', 'value': 2357},\n                          'status': 'OK'}]},\n           {'elements': [{'distance': {'text': '2.6 km', 'value': 2638},\n                          'duration': {'text': '34 mins', 'value': 2014},\n                          'status': 'OK'},\n                         {'distance': {'text': '5.4 km', 'value': 5407},\n                          'duration': {'text': '32 mins', 'value': 1943},\n                          'status': 'OK'}]},\n           {'elements': [{'distance': {'text': '2.5 km', 'value': 2542},\n                          'duration': {'text': '33 mins', 'value': 1950},\n                          'status': 'OK'},\n                         {'distance': {'text': '4.8 km', 'value': 4788},\n                          'duration': {'text': '34 mins', 'value': 2042},\n                          'status': 'OK'}]},\n           {'elements': [{'distance': {'text': '2.7 km', 'value': 2676},\n                          'duration': {'text': '34 mins', 'value': 2025},\n                          'status': 'OK'},\n                         {'distance': {'text': '4.7 km', 'value': 4704},\n                          'duration': {'text': '33 mins', 'value': 1981},\n                          'status': 'OK'}]},\n           {'elements': [{'distance': {'text': '2.8 km', 'value': 2808},\n                          'duration': {'text': '35 mins', 'value': 2077},\n                          'status': 'OK'},\n                         {'distance': {'text': '3.3 km', 'value': 3285},\n                          'duration': {'text': '42 mins', 'value': 2494},\n                          'status': 'OK'}]},\n           {'elements': [{'distance': {'text': '3.1 km', 'value': 3103},\n                          'duration': {'text': '37 mins', 'value': 2238},\n                          'status': 'OK'},\n                         {'distance': {'text': '2.8 km', 'value': 2783},\n                          'duration': {'text': '34 mins', 'value': 2011},\n                          'status': 'OK'}]},\n           {'elements': [{'distance': {'text': '3.5 km', 'value': 3530},\n                          'duration': {'text': '43 mins', 'value': 2609},\n                          'status': 'OK'},\n                         {'distance': {'text': '1.8 km', 'value': 1845},\n                          'duration': {'text': '23 mins', 'value': 1386},\n                          'status': 'OK'}]},\n           {'elements': [{'distance': {'text': '4.0 km', 'value': 3985},\n                          'duration': {'text': '50 mins', 'value': 3021},\n                          'status': 'OK'},\n                         {'distance': {'text': '1.3 km', 'value': 1301},\n                          'duration': {'text': '16 mins', 'value': 987},\n                          'status': 'OK'}]}],\n  'status': 'OK'},\n {'destination_addresses': ['Klæbuveien 125, 7031 Trondheim, Norway',\n                            'Landbruksvegen 2, 7047 Trondheim, Norway'],\n  'origin_addresses': ['Travbanevegen 2, 7044 Trondheim, Norway',\n                       'Ranheimsvegen 13B, 7044 Trondheim, Norway',\n                       'Nedre Ila 52, 7018 Trondheim, Norway',\n                       'Nedre Ila 52, 7018 Trondheim, Norway',\n                       'St. Olavs Pir 2, 7010 Trondheim, Norway',\n                       'St. Olavs Pir 2, 7010 Trondheim, Norway',\n                       'Fosenkaia 1, 7010 Trondheim, Norway',\n                       'Beddingen 16, 7014 Trondheim, Norway',\n                       'Strandveien 7, 7042 Trondheim, Norway',\n                       'Innherredsveien 69B, 7043 Trondheim, Norway',\n                       'Schøllers gate 14, 7043 Trondheim, Norway',\n                       'Rønningsbakken 32, 7045 Trondheim, Norway',\n                       'Falkenborgvegen 32, 7044 Trondheim, Norway',\n                       'Leangen alle 2, 7044 Trondheim, Norway',\n                       'Statoil Rotvoll, Trondheim, Norway'],\n  'rows': [{'elements': [{'distance': {'text': '4.5 km', 'value': 4543},\n                          'duration': {'text': '58 mins', 'value': 3476},\n                          'status': 'OK'},\n                         {'distance': {'text': '0.6 km', 'value': 575},\n                          'duration': {'text': '7 mins', 'value': 449},\n                          'status': 'OK'}]},\n           {'elements': [{'distance': {'text': '10.1 km', 'value': 10087},\n                          'duration': {'text': '59 mins', 'value': 3522},\n                          'status': 'OK'},\n                         {'distance': {'text': '1.1 km', 'value': 1062},\n                          'duration': {'text': '14 mins', 'value': 856},\n                          'status': 'OK'}]},\n           {'elements': [{'distance': {'text': '5.9 km', 'value': 5911},\n                          'duration': {'text': '56 mins', 'value': 3335},\n                          'status': 'OK'},\n                         {'distance': {'text': '8.4 km', 'value': 8440},\n                          'duration': {'text': '1 hour 0 mins', 'value': 3599},\n                          'status': 'OK'}]},\n           {'elements': [{'distance': {'text': '3.6 km', 'value': 3555},\n                          'duration': {'text': '46 mins', 'value': 2737},\n                          'status': 'OK'},\n                         {'distance': {'text': '7.1 km', 'value': 7091},\n                          'duration': {'text': '44 mins', 'value': 2618},\n                          'status': 'OK'}]},\n           {'elements': [{'distance': {'text': '3.4 km', 'value': 3402},\n                          'duration': {'text': '44 mins', 'value': 2618},\n                          'status': 'OK'},\n                         {'distance': {'text': '6.6 km', 'value': 6624},\n                          'duration': {'text': '38 mins', 'value': 2281},\n                          'status': 'OK'}]},\n           {'elements': [{'distance': {'text': '3.8 km', 'value': 3787},\n                          'duration': {'text': '48 mins', 'value': 2892},\n                          'status': 'OK'},\n                         {'distance': {'text': '5.6 km', 'value': 5635},\n                          'duration': {'text': '35 mins', 'value': 2106},\n                          'status': 'OK'}]},\n           {'elements': [{'distance': {'text': '3.1 km', 'value': 3099},\n                          'duration': {'text': '40 mins', 'value': 2387},\n                          'status': 'OK'},\n                         {'distance': {'text': '4.9 km', 'value': 4898},\n                          'duration': {'text': '26 mins', 'value': 1545},\n                          'status': 'OK'}]},\n           {'elements': [{'distance': {'text': '3.4 km', 'value': 3398},\n                          'duration': {'text': '43 mins', 'value': 2602},\n                          'status': 'OK'},\n                         {'distance': {'text': '4.3 km', 'value': 4322},\n                          'duration': {'text': '28 mins', 'value': 1695},\n                          'status': 'OK'}]},\n           {'elements': [{'distance': {'text': '3.3 km', 'value': 3329},\n                          'duration': {'text': '43 mins', 'value': 2557},\n                          'status': 'OK'},\n                         {'distance': {'text': '4.2 km', 'value': 4247},\n                          'duration': {'text': '27 mins', 'value': 1631},\n                          'status': 'OK'}]},\n           {'elements': [{'distance': {'text': '3.3 km', 'value': 3312},\n                          'duration': {'text': '43 mins', 'value': 2563},\n                          'status': 'OK'},\n                         {'distance': {'text': '3.7 km', 'value': 3670},\n                          'duration': {'text': '28 mins', 'value': 1706},\n                          'status': 'OK'}]},\n           {'elements': [{'distance': {'text': '3.5 km', 'value': 3547},\n                          'duration': {'text': '45 mins', 'value': 2678},\n                          'status': 'OK'},\n                         {'distance': {'text': '2.6 km', 'value': 2616},\n                          'duration': {'text': '33 mins', 'value': 1997},\n                          'status': 'OK'}]},\n           {'elements': [{'distance': {'text': '3.8 km', 'value': 3753},\n                          'duration': {'text': '47 mins', 'value': 2801},\n                          'status': 'OK'},\n                         {'distance': {'text': '1.8 km', 'value': 1834},\n                          'duration': {'text': '23 mins', 'value': 1388},\n                          'status': 'OK'}]},\n           {'elements': [{'distance': {'text': '4.2 km', 'value': 4219},\n                          'duration': {'text': '53 mins', 'value': 3186},\n                          'status': 'OK'},\n                         {'distance': {'text': '1.4 km', 'value': 1425},\n                          'duration': {'text': '18 mins', 'value': 1102},\n                          'status': 'OK'}]},\n           {'elements': [{'distance': {'text': '9.1 km', 'value': 9092},\n                          'duration': {'text': '52 mins', 'value': 3117},\n                          'status': 'OK'},\n                         {'distance': {'text': '1.3 km', 'value': 1277},\n                          'duration': {'text': '17 mins', 'value': 1013},\n                          'status': 'OK'}]},\n           {'elements': [{'distance': {'text': '9.1 km', 'value': 9121},\n                          'duration': {'text': '47 mins', 'value': 2837},\n                          'status': 'OK'},\n                         {'distance': {'text': '1.5 km', 'value': 1477},\n                          'duration': {'text': '19 mins', 'value': 1163},\n                          'status': 'OK'}]}],\n  'status': 'OK'}]\n"
    }
   ],
   "source": [
    "pprint(distance_matrices_transit)"
   ]
  },
  {
   "cell_type": "markdown",
   "metadata": {},
   "source": [
    "Store data"
   ]
  },
  {
   "cell_type": "code",
   "execution_count": 32,
   "metadata": {},
   "outputs": [],
   "source": [
    "data_object = {\n",
    "    'distance_matrices_transit': distance_matrices_transit,\n",
    "    'distance_matrices_driving': distance_matrices_driving,\n",
    "    'origins': origins,\n",
    "    'origins_batches': origins_batches,\n",
    "    'destinations_geocodes': destinations_geocodes,\n",
    "    'config': config,\n",
    "}\n",
    "\n",
    "with open(data_file, 'w') as f:\n",
    "    json.dump(data_object, f, indent=4)\n"
   ]
  },
  {
   "cell_type": "code",
   "execution_count": null,
   "metadata": {},
   "outputs": [],
   "source": []
  }
 ],
 "metadata": {
  "kernelspec": {
   "display_name": "Python 3",
   "language": "python",
   "name": "python3"
  },
  "language_info": {
   "codemirror_mode": {
    "name": "ipython",
    "version": 3
   },
   "file_extension": ".py",
   "mimetype": "text/x-python",
   "name": "python",
   "nbconvert_exporter": "python",
   "pygments_lexer": "ipython3",
   "version": "3.7.6-final"
  }
 },
 "nbformat": 4,
 "nbformat_minor": 4
}