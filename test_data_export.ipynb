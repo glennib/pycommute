{
 "cells": [
  {
   "cell_type": "markdown",
   "metadata": {},
   "source": [
    "This notebook may possible charge you lots of money.\n",
    "Use with care."
   ]
  },
  {
   "cell_type": "code",
   "execution_count": 44,
   "metadata": {},
   "outputs": [],
   "source": [
    "import googlemaps\n",
    "from datetime import datetime, timedelta\n",
    "from pprint import pprint\n",
    "import pytz\n",
    "import os\n",
    "import json\n",
    "import gmaps as gmv\n",
    "import numpy as np\n",
    "import itertools\n",
    "import sys"
   ]
  },
  {
   "cell_type": "markdown",
   "metadata": {},
   "source": [
    "Load configuration"
   ]
  },
  {
   "cell_type": "code",
   "execution_count": 45,
   "metadata": {},
   "outputs": [],
   "source": [
    "base_path = os.path.join('C:\\\\', 'Users', 'glenn', 'src', 'pycommute')\n",
    "config_file = os.path.join(base_path, 'config.json')\n",
    "with open(config_file, 'r') as f:\n",
    "    config = json.load(f)"
   ]
  },
  {
   "cell_type": "code",
   "execution_count": 46,
   "metadata": {},
   "outputs": [
    {
     "output_type": "stream",
     "name": "stdout",
     "text": "Calculating for arrival at 2020-04-13 08:00:00+02:00.\n"
    }
   ],
   "source": [
    "local_tz = pytz.timezone(config['time_zone'])\n",
    "arrival_time = datetime.now(local_tz).replace(hour=8, minute=0, second=0, microsecond=0) + timedelta(days=1) # Tomorrow at 8\n",
    "while arrival_time.weekday() != 0: # Finding the next Monday.\n",
    "    arrival_time += timedelta(days=1)\n",
    "    \n",
    "print(f'Calculating for arrival at {arrival_time}.')"
   ]
  },
  {
   "cell_type": "markdown",
   "metadata": {},
   "source": [
    "Initialize API"
   ]
  },
  {
   "cell_type": "code",
   "execution_count": 47,
   "metadata": {},
   "outputs": [],
   "source": [
    "gmd = googlemaps.Client(key=config['api_key']) # Data API"
   ]
  },
  {
   "cell_type": "markdown",
   "metadata": {},
   "source": [
    "Define function to calculate a point from a origin and distance and heading."
   ]
  },
  {
   "cell_type": "code",
   "execution_count": 48,
   "metadata": {},
   "outputs": [],
   "source": [
    "def point_from_distance(lat0d, lon0d, distance, heading):\n",
    "    if heading == 'north':\n",
    "        psi = 0\n",
    "    elif heading == 'east':\n",
    "        psi = -np.pi/2\n",
    "    elif heading == 'south':\n",
    "        psi = np.pi\n",
    "    elif heading == 'west':\n",
    "        psi = np.pi/2\n",
    "    else:\n",
    "        psi = np.radians(heading)\n",
    "    \n",
    "    G = 6371000 # great circle radius\n",
    "    d = distance / G\n",
    "    \n",
    "    lat0 = np.radians(lat0d)\n",
    "    lon0 = np.radians(lon0d)\n",
    "    \n",
    "    lat = np.arcsin(np.sin(lat0) * np.cos(d) + np.cos(lat0) * np.sin(d) * np.cos(psi))\n",
    "    if abs(np.cos(lat)) <= 0.001:\n",
    "        lon = lon0\n",
    "    else:\n",
    "        lon = ((lon0 - np.arcsin(np.sin(psi) * np.sin(d) / np.cos(lat)) + np.pi) % (2*np.pi)) - np.pi\n",
    "    \n",
    "    return np.degrees(lat), np.degrees(lon)"
   ]
  },
  {
   "cell_type": "markdown",
   "metadata": {},
   "source": [
    "Create grid"
   ]
  },
  {
   "cell_type": "code",
   "execution_count": 49,
   "metadata": {},
   "outputs": [
    {
     "output_type": "stream",
     "name": "stdout",
     "text": "Number of origins: 204, number of destinations: 2. 816 elements is approximately 4.08 USD.\n"
    }
   ],
   "source": [
    "lat_center = (config['northeast'][0]+config['southwest'][0])/2\n",
    "lon_center = (config['northeast'][1]+config['southwest'][1])/2\n",
    "dlat = point_from_distance(lat_center, lon_center, config['resolution'], 'north')[0] - lat_center\n",
    "dlon = point_from_distance(lat_center, lon_center, config['resolution'], 'east')[1] - lon_center\n",
    "latitudes = np.arange(config['southwest'][0], config['northeast'][0], dlat)\n",
    "longitudes = np.arange(config['southwest'][1], config['northeast'][1], dlon)\n",
    "origins = list(itertools.product(latitudes, longitudes))\n",
    "destinations_geocodes = [gmd.geocode(destination)[0] for destination in config['destinations']]\n",
    "destinations = [(gc['geometry']['location']['lat'], gc['geometry']['location']['lng']) for gc in destinations_geocodes]\n",
    "print(f'Number of origins: {len(origins)}, number of destinations: {len(config[\"destinations\"])}. {len(config[\"destinations\"]) * len(origins) * 2} elements is approximately {len(config[\"destinations\"]) * len(origins) * 2 * 0.005} USD.')"
   ]
  },
  {
   "cell_type": "markdown",
   "metadata": {},
   "source": [
    "Since the distance_matrix api can only handle requests with maximum 25 origins and destinations, we split the origins into batches of 25."
   ]
  },
  {
   "cell_type": "code",
   "execution_count": 50,
   "metadata": {},
   "outputs": [],
   "source": [
    "max_distance_matrix_locations = 25\n",
    "i_origins = iter(origins)\n",
    "origins_batches = []\n",
    "while True:\n",
    "    next_batch = list(itertools.islice(i_origins, max_distance_matrix_locations))\n",
    "    if not next_batch:\n",
    "        break\n",
    "    origins_batches.append(next_batch)"
   ]
  },
  {
   "cell_type": "markdown",
   "metadata": {},
   "source": [
    "Options that stay the same"
   ]
  },
  {
   "cell_type": "code",
   "execution_count": 51,
   "metadata": {},
   "outputs": [],
   "source": [
    "static_args = {\n",
    "    'language': config.get('language', 'english'),\n",
    "    'units': config.get('units', 'metric'),\n",
    "    'destinations': destinations,\n",
    "    'arrival_time': arrival_time,\n",
    "}"
   ]
  },
  {
   "cell_type": "markdown",
   "metadata": {},
   "source": [
    "Calculate distance with transit"
   ]
  },
  {
   "cell_type": "code",
   "execution_count": 52,
   "metadata": {},
   "outputs": [],
   "source": [
    "err_log_transit = []\n",
    "distance_matrices_transit = []\n",
    "batches_transit = []\n",
    "for batch in origins_batches:\n",
    "    try:\n",
    "        distance_matrix = gmd.distance_matrix(origins=batch, mode='transit', **static_args)\n",
    "        distance_matrices_transit.append(distance_matrix)\n",
    "        batches_transit.append(batch)\n",
    "    except:\n",
    "        ex = sys.exc_info()[0]\n",
    "        print(repr(ex))\n",
    "        err_log_transit.append(ex)\n",
    "        if len(err_log_transit) >= 10:\n",
    "            break\n",
    ""
   ]
  },
  {
   "cell_type": "code",
   "execution_count": 1,
   "metadata": {},
   "outputs": [],
   "source": [
    "# distance_matrices_transit[0]"
   ]
  },
  {
   "cell_type": "markdown",
   "metadata": {},
   "source": [
    "Calculate distances with driving"
   ]
  },
  {
   "cell_type": "code",
   "execution_count": 54,
   "metadata": {},
   "outputs": [],
   "source": [
    "\n",
    "err_log_driving = []\n",
    "distance_matrices_driving = []\n",
    "batches_driving = []\n",
    "for batch in origins_batches:\n",
    "    # try:\n",
    "    distance_matrix = gmd.distance_matrix(origins=batch, mode='driving', **static_args)\n",
    "    distance_matrices_driving.append(distance_matrix)\n",
    "    batches_driving.append(batch)\n",
    "#     except:\n",
    "#         ex = sys.exc_info()[0]\n",
    "#         print(ex)\n",
    "#         err_log_driving.append(ex)\n",
    "#         if len(err_log_driving) >= 10:\n",
    "#             break\n",
    ""
   ]
  },
  {
   "cell_type": "markdown",
   "metadata": {},
   "source": [
    "Concatenate arrays"
   ]
  },
  {
   "cell_type": "code",
   "execution_count": 55,
   "metadata": {},
   "outputs": [],
   "source": [
    "i_distance_matrices_transit = iter(distance_matrices_transit)\n",
    "i_distance_matrices_driving = iter(distance_matrices_driving)\n",
    "\n",
    "distance_matrix_transit = next(i_distance_matrices_transit)\n",
    "for matrix in i_distance_matrices_transit:\n",
    "    distance_matrix_transit['origin_addresses'].extend(matrix['origin_addresses'])\n",
    "    distance_matrix_transit['rows'].extend(matrix['rows'])\n",
    "    assert len(matrix['origin_addresses']) == len(matrix['rows']), 'Unequal lengths!'\n",
    "\n",
    "distance_matrix_driving = next(i_distance_matrices_driving)\n",
    "for matrix in i_distance_matrices_driving:\n",
    "    distance_matrix_transit['origin_addresses'].extend(matrix['origin_addresses'])\n",
    "    distance_matrix_transit['rows'].extend(matrix['rows'])\n",
    "    assert len(matrix['origin_addresses']) == len(matrix['rows']), 'Unequal lengths!'"
   ]
  },
  {
   "cell_type": "markdown",
   "metadata": {},
   "source": [
    "Store data"
   ]
  },
  {
   "cell_type": "code",
   "execution_count": 57,
   "metadata": {},
   "outputs": [],
   "source": [
    "data_path = os.path.join(base_path, 'test_data.json')\n",
    "data_object = {\n",
    "    'distance_matrix_transit': distance_matrix_transit,\n",
    "    'distance_matrix_driving': distance_matrix_driving,\n",
    "    'origins': origins,\n",
    "    'origins_batches': origins_batches,\n",
    "    'destinations_geocodes': destinations_geocodes,\n",
    "    'resolution': config['resolution'],\n",
    "}\n",
    "\n",
    "with open(data_path, 'w') as f:\n",
    "    json.dump(data_object, f, indent=4)\n",
    ""
   ]
  },
  {
   "cell_type": "code",
   "execution_count": null,
   "metadata": {},
   "outputs": [],
   "source": []
  }
 ],
 "metadata": {
  "kernelspec": {
   "display_name": "Python 3.7.6 64-bit ('pycommute': conda)",
   "language": "python",
   "name": "python37664bitpycommuteconda226f2b7e3c5e4ca3bba6d2fe0cdd760c"
  },
  "language_info": {
   "codemirror_mode": {
    "name": "ipython",
    "version": 3
   },
   "file_extension": ".py",
   "mimetype": "text/x-python",
   "name": "python",
   "nbconvert_exporter": "python",
   "pygments_lexer": "ipython3",
   "version": "3.7.6-final"
  }
 },
 "nbformat": 4,
 "nbformat_minor": 4
}